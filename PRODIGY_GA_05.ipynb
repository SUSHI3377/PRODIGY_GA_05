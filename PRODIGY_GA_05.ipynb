{
  "nbformat": 4,
  "nbformat_minor": 0,
  "metadata": {
    "colab": {
      "provenance": [],
      "authorship_tag": "ABX9TyMx/Cec0JPfwi6W5yKUtbVQ",
      "include_colab_link": true
    },
    "kernelspec": {
      "name": "python3",
      "display_name": "Python 3"
    },
    "language_info": {
      "name": "python"
    }
  },
  "cells": [
    {
      "cell_type": "markdown",
      "metadata": {
        "id": "view-in-github",
        "colab_type": "text"
      },
      "source": [
        "<a href=\"https://colab.research.google.com/github/SUSHI3377/PRODIGY_GA_05/blob/main/PRODIGY_GA_05.ipynb\" target=\"_parent\"><img src=\"https://colab.research.google.com/assets/colab-badge.svg\" alt=\"Open In Colab\"/></a>"
      ]
    },
    {
      "cell_type": "code",
      "execution_count": null,
      "metadata": {
        "id": "FSB6PYxa7F9_"
      },
      "outputs": [],
      "source": [
        "# Neural Style Transfer in Google Colab\n",
        "\n",
        "# Step 1: Install necessary libraries\n",
        "!pip install tensorflow matplotlib tensorflow_hub\n",
        "\n",
        "# Step 2: Import required libraries\n",
        "import tensorflow as tf\n",
        "import tensorflow_hub as hub\n",
        "import matplotlib.pyplot as plt\n",
        "import numpy as np\n",
        "\n",
        "# Step 3: Load and preprocess images\n",
        "def load_image(image_path):\n",
        "    \"\"\"Load and preprocess an image for neural style transfer.\"\"\"\n",
        "    image = tf.io.read_file(image_path)\n",
        "    image = tf.image.decode_image(image, channels=3)\n",
        "    image = tf.image.convert_image_dtype(image, tf.float32)\n",
        "    image = tf.image.resize(image, (512, 512))\n",
        "    return image[tf.newaxis, :]\n",
        "\n",
        "# Step 4: Display images\n",
        "def show_image(image, title=\"\"):\n",
        "    \"\"\"Display an image using matplotlib.\"\"\"\n",
        "    image = np.squeeze(image)\n",
        "    plt.imshow(image)\n",
        "    plt.title(title)\n",
        "    plt.axis(\"off\")\n",
        "    plt.show()\n",
        "\n",
        "# Step 5: Perform style transfer\n",
        "def perform_style_transfer(content_image_path, style_image_path):\n",
        "    \"\"\"Apply the artistic style of one image to the content of another.\"\"\"\n",
        "    # Load images\n",
        "    content_image = load_image(content_image_path)\n",
        "    style_image = load_image(style_image_path)\n",
        "\n",
        "    # Load the pre-trained neural style transfer model\n",
        "    model = hub.load('https://tfhub.dev/google/magenta/arbitrary-image-stylization-v1-256/2')\n",
        "\n",
        "    # Apply style transfer\n",
        "    stylized_image = model(content_image, style_image)[0]\n",
        "\n",
        "    # Display results\n",
        "    show_image(content_image, title=\"Content Image\")\n",
        "    show_image(style_image, title=\"Style Image\")\n",
        "    show_image(stylized_image, title=\"Stylized Image\")\n",
        "\n",
        "    return stylized_image\n",
        "\n",
        "# Step 6: Input paths for content and style images\n",
        "# Upload images to Colab or use URLs\n",
        "content_image_path = \"path_to_content_image.jpg\"  # Replace with your content image path\n",
        "style_image_path = \"path_to_style_image.jpg\"  # Replace with your style image path\n",
        "\n",
        "# Step 7: Generate the stylized image\n",
        "stylized_image = perform_style_transfer(content_image_path, style_image_path)\n"
      ]
    }
  ]
}